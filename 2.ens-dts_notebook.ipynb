{
 "cells": [
  {
   "cell_type": "markdown",
   "metadata": {},
   "source": [
    "# Decision Trees & Ensemble Learning tutorial\n",
    "## Libraries : Populating the iterative namespace¶"
   ]
  },
  {
   "cell_type": "code",
   "execution_count": null,
   "metadata": {
    "ExecuteTime": {
     "end_time": "2020-01-12T17:34:52.105502Z",
     "start_time": "2020-01-12T17:34:48.421845Z"
    }
   },
   "outputs": [],
   "source": [
    "import os\n",
    "import pandas as pd\n",
    "import numpy as np\n",
    "from sklearn import datasets\n",
    "from sklearn import tree\n",
    "# Ensemble Learning\n",
    "from sklearn.ensemble import RandomForestClassifier\n",
    "from sklearn.ensemble import ExtraTreesClassifier\n",
    "from sklearn.ensemble import GradientBoostingClassifier\n",
    "#from sklearn import cross_validation\n",
    "from sklearn.model_selection import cross_val_score\n",
    "# pip install xgboot #https://pypi.python.org/pypi/xgboost/\n",
    "# import xgboost  #( Prior: for mac brew tap homebrew/versions; brew install gcc --without-multilib) \n",
    "from matplotlib import pyplot as plt\n",
    "%matplotlib inline"
   ]
  },
  {
   "cell_type": "markdown",
   "metadata": {},
   "source": [
    "## Load Data  for Classification"
   ]
  },
  {
   "cell_type": "code",
   "execution_count": null,
   "metadata": {
    "ExecuteTime": {
     "end_time": "2020-01-12T17:34:52.162871Z",
     "start_time": "2020-01-12T17:34:52.108051Z"
    }
   },
   "outputs": [],
   "source": [
    "''' Pima-Indians-Diabetes-Data-Set \n",
    "DataSet description: https://www.kaggle.com/dssariya/pima-indians-diabetes-data-set \n",
    "A data frame with 768 observations on the following 9 variables.\n",
    "V1: Number of times pregnant\n",
    "V2: Plasma glucose concentration (glucose tolerance test)\n",
    "V3: Diastolic blood pressure (mm Hg)\n",
    "V4: Triceps skin fold thickness (mm)\n",
    "V5: 2-Hour serum insulin (mu U/ml)\n",
    "V6: Body mass index (weight in kg/(height in m)\\^2)\n",
    "V7: Diabetes pedigree function\n",
    "V8: Age (years)\n",
    "V9: Class variable (1:tested positive for diabetes, 0: tested negative for diabetes)\n",
    "'''\n",
    "#url = \"http://mlearn.ics.uci.edu/databases/pima-indians-diabetes/pima-indians-diabetes.data\"\n",
    "url = \"/Users/habiboulaye/Projects/OPSOURCES/ml-scalpel/datasets/diabetes/pima-indians-diabetes.data\"\n",
    "names = ['preg', 'plas', 'pres', 'skin', 'test', 'mass', 'pedi', 'age', 'class']\n",
    "data = pd.read_csv(url, names=names)\n",
    "print(data.shape)\n",
    "data.head()"
   ]
  },
  {
   "cell_type": "code",
   "execution_count": null,
   "metadata": {
    "ExecuteTime": {
     "end_time": "2020-01-12T17:34:52.456705Z",
     "start_time": "2020-01-12T17:34:52.170244Z"
    }
   },
   "outputs": [],
   "source": [
    "data['class'].value_counts()\n",
    "#class distribution\n",
    "data.hist(column = 'class')\n",
    "plt.xlim(-0.5,1.5)"
   ]
  },
  {
   "cell_type": "code",
   "execution_count": null,
   "metadata": {},
   "outputs": [],
   "source": []
  },
  {
   "cell_type": "markdown",
   "metadata": {},
   "source": [
    "conclusion ?"
   ]
  },
  {
   "cell_type": "markdown",
   "metadata": {},
   "source": [
    "##### Visualise Decision Tree using GraphViz"
   ]
  },
  {
   "cell_type": "code",
   "execution_count": null,
   "metadata": {
    "ExecuteTime": {
     "end_time": "2020-01-12T17:34:52.491424Z",
     "start_time": "2020-01-12T17:34:52.462360Z"
    }
   },
   "outputs": [],
   "source": [
    "# GraphViz - Tree visualisation\n",
    "import pydotplus as pydot #Python interface to Graphviz's Dot language - pip install pydotplus #MacOS: brew install graphviz\n",
    "from IPython.display import Image\n",
    "from sklearn.externals.six import StringIO\n",
    "# Download graphviz\n",
    "os.environ[\"PATH\"] += os.pathsep + \"/usr/local/Cellar/graphviz/2.38.0_1/bin/\" # make\n",
    "#os.environ[\"PATH\"] += os.pathsep + \"D:\\\\path\\to\\graphviz\\\\bin\" # Windows\n",
    "#print(os.environ[\"PATH\"])"
   ]
  },
  {
   "cell_type": "code",
   "execution_count": null,
   "metadata": {
    "ExecuteTime": {
     "end_time": "2020-01-12T17:34:52.529495Z",
     "start_time": "2020-01-12T17:34:52.496340Z"
    }
   },
   "outputs": [],
   "source": [
    "#Instanciate a Decision Tree Classifier and display default parametes\n",
    "dtc = tree.DecisionTreeClassifier(max_depth=3) #max_depth=1, criterion=\"entropy\")\n",
    "#Train the classifier\n",
    "X, y = data[names[:-1]], data['class']\n",
    "dtc.fit(X, y)"
   ]
  },
  {
   "cell_type": "markdown",
   "metadata": {},
   "source": [
    "Display tree model"
   ]
  },
  {
   "cell_type": "code",
   "execution_count": null,
   "metadata": {
    "ExecuteTime": {
     "end_time": "2020-01-12T17:35:57.718126Z",
     "start_time": "2020-01-12T17:34:52.532044Z"
    }
   },
   "outputs": [],
   "source": [
    "dot_data = StringIO()\n",
    "tree.export_graphviz(dtc, out_file=dot_data) #,feature_names=predictor)\n",
    "graph = pydot.graph_from_dot_data(dot_data.getvalue())\n",
    "Image(graph.create_png())"
   ]
  },
  {
   "cell_type": "code",
   "execution_count": null,
   "metadata": {},
   "outputs": [],
   "source": []
  },
  {
   "cell_type": "markdown",
   "metadata": {},
   "source": [
    "Conclusion?\n",
    "* Interpretation of values in tree nodes from Root to leaves\n",
    "* Vary the max_depth parameter and display tree"
   ]
  },
  {
   "cell_type": "markdown",
   "metadata": {},
   "source": [
    "## CrossValidation Strategy - Model selection"
   ]
  },
  {
   "cell_type": "code",
   "execution_count": null,
   "metadata": {
    "ExecuteTime": {
     "end_time": "2020-01-12T17:35:57.763076Z",
     "start_time": "2020-01-12T17:35:57.734964Z"
    }
   },
   "outputs": [],
   "source": [
    "cv_url =  'crossval.png' #'http://i.imgur.com/N9HZktu.png'\n",
    "Image(url=cv_url)"
   ]
  },
  {
   "cell_type": "code",
   "execution_count": null,
   "metadata": {
    "ExecuteTime": {
     "end_time": "2020-01-12T17:35:57.770431Z",
     "start_time": "2020-01-12T17:35:57.767247Z"
    }
   },
   "outputs": [],
   "source": [
    "#nb folds of cross validation\n",
    "kfold = 10"
   ]
  },
  {
   "cell_type": "markdown",
   "metadata": {},
   "source": [
    "##### 0- Decision Tree model\n",
    "Generate decision rules using simple series of Yes or No questions to classify"
   ]
  },
  {
   "cell_type": "code",
   "execution_count": null,
   "metadata": {
    "ExecuteTime": {
     "end_time": "2020-01-12T17:35:57.913898Z",
     "start_time": "2020-01-12T17:35:57.773841Z"
    }
   },
   "outputs": [],
   "source": [
    "dtc = tree.DecisionTreeClassifier(max_depth=3) # default max_depth=?    \n",
    "scores = cross_val_score(dtc, X, y, cv=kfold)\n",
    "print(scores)\n",
    "print(\"Accuracy: %0.2f (+/- %0.2f)\" % (scores.mean(), scores.std() * 2))"
   ]
  },
  {
   "cell_type": "markdown",
   "metadata": {},
   "source": [
    "##### 1- Random Forest Model\n",
    "Strategy of trees construction to reduce correlation: Each tree is built using sampling with replacement of training dataset and a random subset of features"
   ]
  },
  {
   "cell_type": "code",
   "execution_count": null,
   "metadata": {
    "ExecuteTime": {
     "end_time": "2020-01-12T17:35:59.890478Z",
     "start_time": "2020-01-12T17:35:57.922525Z"
    }
   },
   "outputs": [],
   "source": [
    "rfc = RandomForestClassifier(n_estimators=100) # n_estimators=?, max_features=?\n",
    "scores = cross_val_score(rfc, X, y, cv=kfold)\n",
    "print(\"Accuracy: %0.2f (+/- %0.2f)\" % (scores.mean(), scores.std() * 2))"
   ]
  },
  {
   "cell_type": "markdown",
   "metadata": {},
   "source": [
    "##### 2- ExtraTrees Model\n",
    "Another modification of bagging where random trees are constructed from samples of the training dataset."
   ]
  },
  {
   "cell_type": "code",
   "execution_count": null,
   "metadata": {
    "ExecuteTime": {
     "end_time": "2020-01-12T17:36:01.885824Z",
     "start_time": "2020-01-12T17:35:59.923892Z"
    }
   },
   "outputs": [],
   "source": [
    "etc = ExtraTreesClassifier(n_estimators=100)   \n",
    "scores = cross_val_score(etc, X, y, cv=kfold)\n",
    "print(\"etc accuracy: %0.2f (+/- %0.2f)\" % (scores.mean(), scores.std() * 2))"
   ]
  },
  {
   "cell_type": "markdown",
   "metadata": {},
   "source": [
    "##### 3- Gradient Boosting Model\n",
    "Combines a sequence of trees that attempt to correct the mistakes of the models before them in the sequence."
   ]
  },
  {
   "cell_type": "code",
   "execution_count": null,
   "metadata": {
    "ExecuteTime": {
     "end_time": "2020-01-12T17:36:03.719398Z",
     "start_time": "2020-01-12T17:36:01.896291Z"
    }
   },
   "outputs": [],
   "source": [
    "gbc = GradientBoostingClassifier(n_estimators=100)   \n",
    "scores = cross_val_score(gbc, X, y, cv=kfold)\n",
    "print(\"gbc accuracy: %0.2f (+/- %0.2f)\" % (scores.mean(), scores.std() * 2))"
   ]
  },
  {
   "cell_type": "code",
   "execution_count": null,
   "metadata": {
    "ExecuteTime": {
     "end_time": "2020-01-12T17:36:03.755687Z",
     "start_time": "2020-01-12T17:36:03.734306Z"
    }
   },
   "outputs": [],
   "source": [
    "##### 4- eXtreme Gradient Boosting\n",
    "#Very fast and effective version of Gradient boosting\n",
    "#xgb = xgboost.XGBClassifier()\n",
    "#scores = cross_validation.cross_val_score(gbc, X, y, cv=kfold)\n",
    "#print(\"Accuracy: %0.2f (+/- %0.2f)\" % (scores.mean(), scores.std() * 2))"
   ]
  },
  {
   "cell_type": "markdown",
   "metadata": {},
   "source": [
    "? conclusion"
   ]
  },
  {
   "cell_type": "markdown",
   "metadata": {},
   "source": [
    "### Variables Importance"
   ]
  },
  {
   "cell_type": "code",
   "execution_count": null,
   "metadata": {
    "ExecuteTime": {
     "end_time": "2020-01-12T17:36:04.564824Z",
     "start_time": "2020-01-12T17:36:03.758769Z"
    }
   },
   "outputs": [],
   "source": [
    "# Plot the feature importances of the forest\n",
    "gbc.fit(X,y)\n",
    "importances = gbc.feature_importances_\n",
    "#show to plot importances\n",
    "importances = pd.DataFrame({'feature':X.columns,'importance':np.round(importances,3)})\n",
    "importances = importances.sort_values('importance',ascending=False).set_index('feature')\n",
    "#print(importances)\n",
    "importances.plot(kind='bar', figsize=(10,5))"
   ]
  },
  {
   "cell_type": "markdown",
   "metadata": {},
   "source": [
    "Conclusion ?"
   ]
  },
  {
   "cell_type": "markdown",
   "metadata": {
    "collapsed": true
   },
   "source": [
    "## TrainTest Strategy - Model evaluation"
   ]
  },
  {
   "cell_type": "markdown",
   "metadata": {},
   "source": [
    "### Split TrainTest"
   ]
  },
  {
   "cell_type": "code",
   "execution_count": null,
   "metadata": {
    "ExecuteTime": {
     "end_time": "2020-01-12T17:36:04.747021Z",
     "start_time": "2020-01-12T17:36:04.571027Z"
    }
   },
   "outputs": [],
   "source": [
    "import sklearn.utils\n",
    "data = sklearn.utils.shuffle(data)\n",
    "data['is_train'] = np.random.uniform(0, 1, len(data)) <= 3/4 #.75\n",
    "train, test = data[data['is_train']==True], data[data['is_train']==False]\n",
    "print(\"size train/test: {0}/{1}\".format(train.shape[0], test.shape[0]))\n",
    "X_train, y_train = train[names[:-1]], train['class']\n",
    "X_test, y_test = test[names[:-1]], test['class']"
   ]
  },
  {
   "cell_type": "markdown",
   "metadata": {},
   "source": [
    "### Performance evaluation"
   ]
  },
  {
   "cell_type": "code",
   "execution_count": null,
   "metadata": {
    "ExecuteTime": {
     "end_time": "2020-01-12T17:36:04.761159Z",
     "start_time": "2020-01-12T17:36:04.750190Z"
    }
   },
   "outputs": [],
   "source": [
    "from sklearn import metrics"
   ]
  },
  {
   "cell_type": "code",
   "execution_count": null,
   "metadata": {
    "ExecuteTime": {
     "end_time": "2020-01-12T17:36:05.537342Z",
     "start_time": "2020-01-12T17:36:04.764252Z"
    }
   },
   "outputs": [],
   "source": [
    "clf_map = {'RandomForest': rfc, 'ExtraTrees': etc, 'GradientBoosting': gbc  }\n",
    "clf_preds_map = {}\n",
    "for cname, clf in clf_map.items():\n",
    "    clf.fit(X_train, y_train)\n",
    "    clf_preds_map[cname] = clf.predict(X_test)"
   ]
  },
  {
   "cell_type": "markdown",
   "metadata": {},
   "source": [
    "##### Accuracy"
   ]
  },
  {
   "cell_type": "code",
   "execution_count": null,
   "metadata": {
    "ExecuteTime": {
     "end_time": "2020-01-12T17:36:05.579908Z",
     "start_time": "2020-01-12T17:36:05.540283Z"
    }
   },
   "outputs": [],
   "source": [
    "for cname, _ in clf_map.items():\n",
    "    print(\"=> {0} accuracy = [{1:.2f}]]\".format(cname, metrics.accuracy_score(y_test,clf_preds_map[cname])))"
   ]
  },
  {
   "cell_type": "markdown",
   "metadata": {},
   "source": [
    "Conclusion ?"
   ]
  },
  {
   "cell_type": "markdown",
   "metadata": {},
   "source": [
    "##### Confusion matrix"
   ]
  },
  {
   "cell_type": "code",
   "execution_count": null,
   "metadata": {
    "ExecuteTime": {
     "end_time": "2020-01-12T17:36:05.650397Z",
     "start_time": "2020-01-12T17:36:05.585489Z"
    }
   },
   "outputs": [],
   "source": [
    "conf_map = {}\n",
    "for cname, _ in clf_map.items():\n",
    "    conf_map[cname]=metrics.confusion_matrix(y_test, clf_preds_map[cname])"
   ]
  },
  {
   "cell_type": "code",
   "execution_count": null,
   "metadata": {
    "ExecuteTime": {
     "end_time": "2020-01-12T18:56:49.897189Z",
     "start_time": "2020-01-12T18:56:49.361082Z"
    }
   },
   "outputs": [],
   "source": [
    "import seaborn as sns\n",
    "fig, _ = plt.subplots(figsize=(12, 3))\n",
    "print('Confusion Matrix of the 3 Classifiers')\n",
    "plt.subplot(1, 3, 1) # starts from 1\n",
    "for i, cname in enumerate(conf_map):\n",
    "    plt.subplot(1, 3, i+1)\n",
    "    plt.title(cname);\n",
    "    sns.heatmap(conf_map[cname], annot=True,  fmt='')"
   ]
  },
  {
   "cell_type": "markdown",
   "metadata": {},
   "source": [
    "##### Area Under Curve - Receiver Operating Characteristic"
   ]
  },
  {
   "cell_type": "code",
   "execution_count": null,
   "metadata": {
    "ExecuteTime": {
     "end_time": "2020-01-12T17:36:07.258684Z",
     "start_time": "2020-01-12T17:36:06.799946Z"
    }
   },
   "outputs": [],
   "source": [
    "colors = ['seagreen', 'blue', 'darkorange', 'indigo']\n",
    "i = 0\n",
    "mean_tpr = 0.0\n",
    "mean_fpr = np.linspace(0, 1, 100)\n",
    "for cname, clf in clf_map.items():\n",
    "    fpr, tpr, thresholds = metrics.roc_curve(y_test, clf.predict_proba(X_test)[:, 1])\n",
    "    roc_auc = metrics.auc(fpr, tpr)\n",
    "    print(\"=> {0} auc_roc [{1:.2f}] ]\".format(cname, roc_auc))\n",
    "    plt.plot(fpr, tpr, color=colors[i],label='ROC {0} (area = {1:.2f})'.format(cname, roc_auc))\n",
    "    i += 1\n",
    "plt.plot([0, 1], [0, 1], linestyle='--', color='k', label='Good Luck')\n",
    "plt.xlim([-0.05, 1.05])\n",
    "plt.ylim([-0.05, 1.05])\n",
    "plt.xlabel('False Positive Rate')\n",
    "plt.ylabel('True Positive Rate')\n",
    "plt.title('Receiver Operating Characteristic')\n",
    "plt.legend(loc=\"lower right\")\n",
    "plt.show()"
   ]
  },
  {
   "cell_type": "markdown",
   "metadata": {},
   "source": [
    "Conclusion ?"
   ]
  }
 ],
 "metadata": {
  "anaconda-cloud": {},
  "hide_input": false,
  "kernelspec": {
   "display_name": "Python 3",
   "language": "python",
   "name": "python3"
  },
  "language_info": {
   "codemirror_mode": {
    "name": "ipython",
    "version": 3
   },
   "file_extension": ".py",
   "mimetype": "text/x-python",
   "name": "python",
   "nbconvert_exporter": "python",
   "pygments_lexer": "ipython3",
   "version": "3.6.8"
  },
  "toc": {
   "base_numbering": 1,
   "nav_menu": {},
   "number_sections": true,
   "sideBar": true,
   "skip_h1_title": false,
   "title_cell": "Table of Contents",
   "title_sidebar": "Contents",
   "toc_cell": false,
   "toc_position": {},
   "toc_section_display": true,
   "toc_window_display": false
  }
 },
 "nbformat": 4,
 "nbformat_minor": 1
}
